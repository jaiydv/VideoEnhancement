{
  "nbformat": 4,
  "nbformat_minor": 0,
  "metadata": {
    "colab": {
      "provenance": [],
      "gpuType": "T4"
    },
    "kernelspec": {
      "name": "python3",
      "display_name": "Python 3"
    },
    "language_info": {
      "name": "python"
    }
  },
  "cells": [
    {
      "cell_type": "markdown",
      "source": [
        "# Assignment-3\n",
        "#Video Enhancement"
      ],
      "metadata": {
        "id": "lp7KvpPuNwGL"
      }
    },
    {
      "cell_type": "markdown",
      "source": [
        "Mount Google Drive"
      ],
      "metadata": {
        "id": "rtr-4dPrMMoi"
      }
    },
    {
      "cell_type": "code",
      "execution_count": 1,
      "metadata": {
        "colab": {
          "base_uri": "https://localhost:8080/"
        },
        "id": "qdbxCOwNMErK",
        "outputId": "435b45c7-a67e-4ea9-8c2e-4beaa2527bea"
      },
      "outputs": [
        {
          "output_type": "stream",
          "name": "stdout",
          "text": [
            "Mounted at /content/drive\n"
          ]
        }
      ],
      "source": [
        "from google.colab import drive\n",
        "drive.mount('/content/drive')"
      ]
    },
    {
      "cell_type": "code",
      "source": [
        "%cd /content/drive/MyDrive"
      ],
      "metadata": {
        "colab": {
          "base_uri": "https://localhost:8080/"
        },
        "id": "i73qhHQ8MqEN",
        "outputId": "a9fe9b69-727b-4bee-e468-ae4ee766cbff"
      },
      "execution_count": 3,
      "outputs": [
        {
          "output_type": "stream",
          "name": "stdout",
          "text": [
            "/content/drive/MyDrive\n"
          ]
        }
      ]
    },
    {
      "cell_type": "markdown",
      "source": [
        "# At first, clone the repository in your Mydrive"
      ],
      "metadata": {
        "id": "VOmQV5mvNdUS"
      }
    },
    {
      "cell_type": "code",
      "source": [
        "!git clone"
      ],
      "metadata": {
        "id": "Ho2Ri2WBA01R"
      },
      "execution_count": null,
      "outputs": []
    },
    {
      "cell_type": "code",
      "source": [
        "%cd /content/drive/MyDrive/Assignment-3"
      ],
      "metadata": {
        "colab": {
          "base_uri": "https://localhost:8080/"
        },
        "id": "134wkxAcixmM",
        "outputId": "bf658fcd-1ca4-4c1e-c508-01dbd0d96d23"
      },
      "execution_count": 3,
      "outputs": [
        {
          "output_type": "stream",
          "name": "stdout",
          "text": [
            "/content/drive/MyDrive/Assignment-3\n"
          ]
        }
      ]
    },
    {
      "cell_type": "code",
      "source": [
        "basePath = \"content/drive/MyDrive/Assignment-3\"\n",
        "wav2lipFolderName = 'Wav2Lip-master'\n",
        "gfpganFolderName = 'GFPGAN-master'\n",
        "wav2lipPath = basePath + '/' + wav2lipFolderName\n",
        "gfpganPath = basePath + '/' + gfpganFolderName\n",
        "\n",
        "#installing all the required libraries\n",
        "\n",
        "!pip install -r requirements.txt\n",
        "\n",
        "%cd /content/drive/MyDrive/Assignment-3/GFPGAN-master\n",
        "\n",
        "!python setup.py develop\n",
        "\n",
        "print(\"Installation complete.\")"
      ],
      "metadata": {
        "id": "LHM7Smpkh7wy"
      },
      "execution_count": null,
      "outputs": []
    },
    {
      "cell_type": "code",
      "source": [
        "%cd /content/drive/MyDrive/Assignment-3"
      ],
      "metadata": {
        "colab": {
          "base_uri": "https://localhost:8080/"
        },
        "id": "GyiH0kvnAmXK",
        "outputId": "c7f5940a-daf3-40dc-f9e2-e0e57e37985c"
      },
      "execution_count": 2,
      "outputs": [
        {
          "output_type": "stream",
          "name": "stdout",
          "text": [
            "/content/drive/MyDrive/Assignment-3\n"
          ]
        }
      ]
    },
    {
      "cell_type": "code",
      "source": [
        "import cv2\n",
        "from tqdm import tqdm\n",
        "from os import path\n",
        "import os\n",
        "from moviepy.editor import VideoFileClip, concatenate_videoclips\n",
        "\n",
        "filename = \"test3.mp4\" #@param{type:\"string\"}\n",
        "outputPath = \"/content/drive/MyDrive/Assignment-3/results\"\n",
        "inputVideoPath = outputPath+'/'+filename\n",
        "unProcessedFramesFolderPath = outputPath+'/frames'\n",
        "gfpganFolderName = \"GFPGAN-master\"\n",
        "\n",
        "if not os.path.exists(unProcessedFramesFolderPath):\n",
        "    os.makedirs(unProcessedFramesFolderPath)\n",
        "\n",
        "vidcap = cv2.VideoCapture(inputVideoPath)\n",
        "numberOfFrames = int(vidcap.get(cv2.CAP_PROP_FRAME_COUNT))\n",
        "fps = vidcap.get(cv2.CAP_PROP_FPS)\n",
        "print(\"FPS: \", fps, \"Frames: \", numberOfFrames)\n",
        "\n",
        "# for frameNumber in tqdm(range(numberOfFrames)):\n",
        "#     _, image = vidcap.read()\n",
        "#     cv2.imwrite(path.join(unProcessedFramesFolderPath, str(frameNumber).zfill(4) + '.jpg'), image)\n",
        "\n",
        "!cd $gfpganFolderName && \\\n",
        "  python inference_gfpgan.py -i $unProcessedFramesFolderPath -o $outputPath -v 1.3 -s 2 --only_center_face --bg_upsampler None\n",
        "\n",
        "import os\n",
        "restoredFramesPath = outputPath + '/restored_imgs/'\n",
        "processedVideoOutputPath = outputPath\n",
        "\n",
        "dir_list = os.listdir(restoredFramesPath)\n",
        "dir_list.sort()\n",
        "\n",
        "# Get FPS of the original video for the writer\n",
        "inputVideoPath = outputPath +\"/\"+ filename\n",
        "vidcap = cv2.VideoCapture(inputVideoPath)\n",
        "fps = vidcap.get(cv2.CAP_PROP_FPS)\n",
        "print(\"The video is \" + str(fps) + \" FPS.\")\n",
        "\n",
        "batch = 0\n",
        "batchSize = 500\n",
        "processed_clips =[]\n",
        "\n",
        "from tqdm import tqdm\n",
        "for i in tqdm(range(0, len(dir_list), batchSize)):\n",
        "    print(\"hi\")\n",
        "    img_array = []\n",
        "    start, end = i, i + batchSize\n",
        "    print(\"processing \", start, end, end=\"\\r\")\n",
        "    for filename in tqdm(dir_list[start:end]):\n",
        "        filename = restoredFramesPath + filename;\n",
        "        img = cv2.imread(filename)\n",
        "        if img is None:\n",
        "            continue\n",
        "        height, width, layers = img.shape\n",
        "        size = (width, height)\n",
        "        img_array.append(img)\n",
        "\n",
        "    out = cv2.VideoWriter(processedVideoOutputPath + '/output_' + str(batch).zfill(4) + '.mp4',\n",
        "                          cv2.VideoWriter_fourcc(*'DIVX'), fps, size)\n",
        "\n",
        "    batch = batch + 1\n",
        "\n",
        "    for i in range(len(img_array)):\n",
        "        out.write(img_array[i])\n",
        "\n",
        "    out.release()\n",
        "\n",
        "    processed_clips.append(VideoFileClip(processedVideoOutputPath + f'/output_{str(batch-1).zfill(4)}.mp4'))\n",
        "\n",
        "final_clip = concatenate_videoclips(processed_clips,method=\"compose\")\n",
        "\n",
        "\n",
        "# Get the audio from the original video\n",
        "clip = VideoFileClip(inputVideoPath)\n",
        "audio = clip.audio\n",
        "\n",
        "# Combine the processed video and original audio\n",
        "\n",
        "final_clip = final_clip.set_audio(audio)\n",
        "# Save the final video\n",
        "final_clip.write_videofile(outputPath + '/final_result.mp4', codec='libx264', audio_codec='aac')\n",
        "\n",
        "from IPython.display import clear_output\n",
        "# clear_output()\n",
        "\n",
        "print(\"Video upscaling complete.\")\n"
      ],
      "metadata": {
        "id": "Y7u5gU5xjSEW"
      },
      "execution_count": null,
      "outputs": []
    },
    {
      "cell_type": "markdown",
      "source": [
        "Run this cell to play Enhanced videos, If it is not working you can download the \"final_result.mp4\" file in to you system from results folder"
      ],
      "metadata": {
        "id": "4Omg3OtzK3S7"
      }
    },
    {
      "cell_type": "code",
      "source": [
        "from IPython.display import display, HTML, Video\n",
        "\n",
        "# Specify the path to the video file\n",
        "video_path = \"/content/drive/MyDrive/Assignment-3/results/final_result.mp4\"\n",
        "\n",
        "# Display the video\n",
        "display(Video(video_path, width=400, height=300))"
      ],
      "metadata": {
        "colab": {
          "base_uri": "https://localhost:8080/",
          "height": 322
        },
        "id": "wRZY1HnrIOuH",
        "outputId": "134af135-e600-45ec-8630-962df1846a85"
      },
      "execution_count": 2,
      "outputs": [
        {
          "output_type": "display_data",
          "data": {
            "text/plain": [
              "<IPython.core.display.Video object>"
            ],
            "text/html": [
              "<video src=\"/content/drive/MyDrive/Assignment-3/results/output_0000.mp4\" controls  width=\"400\"  height=\"300\">\n",
              "      Your browser does not support the <code>video</code> element.\n",
              "    </video>"
            ]
          },
          "metadata": {}
        }
      ]
    },
    {
      "cell_type": "markdown",
      "source": [
        "Run to remove all cache files"
      ],
      "metadata": {
        "id": "lO_uAXngLGNN"
      }
    },
    {
      "cell_type": "code",
      "source": [
        "%rm /content/drive/MyDrive/Assignment-3/results/frames/*\n",
        "%rm /content/drive/MyDrive/Assignment-3/results/restored_imgs/*\n"
      ],
      "metadata": {
        "id": "kc6BwZ2SPF2_",
        "colab": {
          "base_uri": "https://localhost:8080/"
        },
        "outputId": "ea703791-d1c5-4639-e8ce-ceb67be6e714"
      },
      "execution_count": 7,
      "outputs": [
        {
          "output_type": "stream",
          "name": "stdout",
          "text": [
            "rm: cannot remove '/content/drive/MyDrive/Assignment-3/results/frames/*': No such file or directory\n",
            "rm: cannot remove '/content/drive/MyDrive/Assignment-3/results/restored_imgs/*': No such file or directory\n"
          ]
        }
      ]
    },
    {
      "cell_type": "markdown",
      "source": [
        "#Evaluation metric (PSNR)\n",
        "\n",
        "Average Psnr values of given videos\n",
        "1. Test1.mp4 - 35.616481395426824 dB\n",
        "2. Test2.mp4 - 37.27242529287235 dB\n",
        "3. Test3.mp4 - 37.27242529287235 dB"
      ],
      "metadata": {
        "id": "srtaw7BRIlo4"
      }
    },
    {
      "cell_type": "markdown",
      "source": [
        "Run below cell to calculate average psnr values"
      ],
      "metadata": {
        "id": "xoZb-MyHQN95"
      }
    },
    {
      "cell_type": "code",
      "source": [
        "import cv2\n",
        "import numpy as np\n",
        "\n",
        "def calculate_psnr(original, enhanced):\n",
        "    \"\"\"\n",
        "    Calculate PSNR between two images.\n",
        "\n",
        "    Parameters:\n",
        "    - original: Original image\n",
        "    - enhanced: Enhanced image\n",
        "\n",
        "    Returns:\n",
        "    - psnr: PSNR value\n",
        "    \"\"\"\n",
        "    mse = np.mean((original - enhanced) ** 2)\n",
        "    if mse == 0:\n",
        "        return float('inf')  # PSNR is infinite if the images are identical\n",
        "    max_pixel = 255.0\n",
        "    psnr = 20 * np.log10(max_pixel / np.sqrt(mse))\n",
        "    return psnr\n",
        "\n",
        "def calculate_video_psnr(original_path, enhanced_path):\n",
        "    \"\"\"\n",
        "    Calculate average PSNR for each frame in a video.\n",
        "\n",
        "    Parameters:\n",
        "    - original_path: Path to the original high-quality video\n",
        "    - enhanced_path: Path to the enhanced video for comparison\n",
        "\n",
        "    Returns:\n",
        "    - average_psnr: Average PSNR across all frames\n",
        "    \"\"\"\n",
        "    original_video = cv2.VideoCapture(original_path)\n",
        "    enhanced_video = cv2.VideoCapture(enhanced_path)\n",
        "\n",
        "    frame_count = int(original_video.get(cv2.CAP_PROP_FRAME_COUNT))\n",
        "    total_psnr = 0.0\n",
        "\n",
        "    for _ in range(frame_count):\n",
        "        _, original_frame = original_video.read()\n",
        "        _, enhanced_frame = enhanced_video.read()\n",
        "\n",
        "        if original_frame is None or enhanced_frame is None:\n",
        "            break\n",
        "\n",
        "        # Resize frames to the same dimensions\n",
        "        enhanced_frame = cv2.resize(enhanced_frame, (original_frame.shape[1], original_frame.shape[0]))\n",
        "\n",
        "        original_frame = cv2.cvtColor(original_frame, cv2.COLOR_BGR2GRAY)\n",
        "        enhanced_frame = cv2.cvtColor(enhanced_frame, cv2.COLOR_BGR2GRAY)\n",
        "\n",
        "        psnr = calculate_psnr(original_frame, enhanced_frame)\n",
        "        total_psnr += psnr\n",
        "\n",
        "    original_video.release()\n",
        "    enhanced_video.release()\n",
        "\n",
        "    average_psnr = total_psnr / frame_count\n",
        "    return average_psnr\n",
        "\n",
        "\n"
      ],
      "metadata": {
        "id": "WnO-j8CZIlQF"
      },
      "execution_count": 4,
      "outputs": []
    },
    {
      "cell_type": "markdown",
      "source": [
        "write complete path of both original video and enhanced video"
      ],
      "metadata": {
        "id": "l7e8DUtAMddZ"
      }
    },
    {
      "cell_type": "code",
      "source": [
        "original_video_path = '/content/drive/MyDrive/Assignment-3/results/test3.mp4' #@param{type:\"string\"}\n",
        "enhanced_video_path = '/content/drive/MyDrive/Assignment-3/results/video3_enhanced.mp4' #@param{type:\"string\"}\n",
        "\n",
        "average_psnr_value = calculate_video_psnr(original_video_path, enhanced_video_path)\n",
        "print(f'Average PSNR: {average_psnr_value} dB')\n"
      ],
      "metadata": {
        "colab": {
          "base_uri": "https://localhost:8080/"
        },
        "id": "X_w4-uJuJIqj",
        "outputId": "6a3f5747-5df7-454b-d601-757691caf47d"
      },
      "execution_count": 6,
      "outputs": [
        {
          "output_type": "stream",
          "name": "stdout",
          "text": [
            "Average PSNR: 37.27242529287235 dB\n"
          ]
        }
      ]
    }
  ]
}